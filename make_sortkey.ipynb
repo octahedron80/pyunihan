{
 "cells": [
  {
   "cell_type": "code",
   "execution_count": 1,
   "id": "8e02fc9e-dccc-4f5c-bca0-f0451967cd3d",
   "metadata": {},
   "outputs": [],
   "source": [
    "import io\n",
    "import icu\n",
    "import json\n",
    "\n",
    "with io.open(\"rawdata/kangxi-radicals-compat.json\", \"r\", encoding = \"utf-8\") as r:\n",
    "    radicals = json.loads(r.read())\n",
    "    r.close()\n",
    "\n",
    "# convert kRSUnicode or kRSKangXi into wiki sortkey\n",
    "def rscode_to_wikikey(rscode):\n",
    "    tokens = rscode.split(\".\")\n",
    "    if simp := tokens[0].endswith(\"'\"):\n",
    "        tokens[0] = tokens[0][:-1]\n",
    "    key = radicals[\"alternative\"][int(tokens[0]) - 1] if simp else radicals[\"original\"][int(tokens[0]) - 1]\n",
    "    key += \"{:+03d}\".format(int(tokens[1])).replace(\"+\", \"\")\n",
    "    return key\n",
    "\n",
    "with io.open(\"data/Unihan_IRGSources.json\", \"r\", encoding = \"utf-8\") as u:\n",
    "    dbObj = json.loads(u.read())\n",
    "    u.close()\n",
    "\n",
    "newObj = {} # sortkeys\n",
    "newObj2 = {} # reverse sortkeys\n",
    "specialObj = {} # multiple sortkeys\n",
    "for hanChar in dbObj:\n",
    "    values = dbObj[hanChar][\"kRSUnicode\"]\n",
    "    values[:] = [rscode_to_wikikey(value) for value in values]\n",
    "    newObj[hanChar] = values\n",
    "    if len(values) > 1:\n",
    "        specialObj[hanChar] = values\n",
    "    for value in values:\n",
    "        if value not in newObj2:\n",
    "            newObj2[value] = []\n",
    "        newObj2[value].append(hanChar)\n",
    "\n",
    "with io.open(\"data/sortkey.json\", \"w\", encoding = \"utf-8\") as j:\n",
    "    json.dump(newObj, j, ensure_ascii = False, separators = (\",\", \":\"))\n",
    "    j.close()\n",
    "with io.open(\"data/sortkey-rev.json\", \"w\", encoding = \"utf-8\") as k:\n",
    "    json.dump(newObj2, k, ensure_ascii = False, separators = (\",\", \":\"))\n",
    "    k.close()\n",
    "with io.open(\"data/sortkey-multiple.json\", \"w\", encoding = \"utf-8\") as l:\n",
    "    json.dump(specialObj, l, ensure_ascii = False, separators = (\",\", \":\"))\n",
    "    l.close()"
   ]
  },
  {
   "cell_type": "code",
   "execution_count": null,
   "id": "b320b1f1-7ada-43d4-887f-a361c989e2ee",
   "metadata": {},
   "outputs": [],
   "source": []
  }
 ],
 "metadata": {
  "kernelspec": {
   "display_name": "Python 3 (ipykernel)",
   "language": "python",
   "name": "python3"
  },
  "language_info": {
   "codemirror_mode": {
    "name": "ipython",
    "version": 3
   },
   "file_extension": ".py",
   "mimetype": "text/x-python",
   "name": "python",
   "nbconvert_exporter": "python",
   "pygments_lexer": "ipython3",
   "version": "3.10.5"
  }
 },
 "nbformat": 4,
 "nbformat_minor": 5
}
