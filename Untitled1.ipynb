{
 "cells": [
  {
   "cell_type": "code",
   "execution_count": 16,
   "id": "58347afb-839c-4b87-9fb6-cba760abb89b",
   "metadata": {},
   "outputs": [
    {
     "ename": "KeyError",
     "evalue": "'aa4'",
     "output_type": "error",
     "traceback": [
      "\u001b[1;31m---------------------------------------------------------------------------\u001b[0m",
      "\u001b[1;31mKeyError\u001b[0m                                  Traceback (most recent call last)",
      "Input \u001b[1;32mIn [16]\u001b[0m, in \u001b[0;36m<cell line: 22>\u001b[1;34m()\u001b[0m\n\u001b[0;32m     34\u001b[0m subindices \u001b[38;5;241m=\u001b[39m \u001b[38;5;28mlist\u001b[39m(\u001b[38;5;28mfilter\u001b[39m(\u001b[38;5;28;01mlambda\u001b[39;00m x: re\u001b[38;5;241m.\u001b[39mmatch(index \u001b[38;5;241m+\u001b[39m \u001b[38;5;124m\"\u001b[39m\u001b[38;5;124m[1-6]\u001b[39m\u001b[38;5;124m\"\u001b[39m, x), jyutpingIndex[\u001b[38;5;124m\"\u001b[39m\u001b[38;5;124mtoned\u001b[39m\u001b[38;5;124m\"\u001b[39m]))\n\u001b[0;32m     35\u001b[0m \u001b[38;5;28;01mfor\u001b[39;00m subindex \u001b[38;5;129;01min\u001b[39;00m subindices:\n\u001b[1;32m---> 36\u001b[0m     hanList \u001b[38;5;241m=\u001b[39m \u001b[43mjyutpingRev\u001b[49m\u001b[43m[\u001b[49m\u001b[43msubindex\u001b[49m\u001b[43m]\u001b[49m\n\u001b[0;32m     37\u001b[0m     \u001b[38;5;28;01mfor\u001b[39;00m hanChar \u001b[38;5;129;01min\u001b[39;00m hanList[:]:\n\u001b[0;32m     38\u001b[0m         \u001b[38;5;66;03m# compatibility chars result in duplicated chars on web, so remove them\u001b[39;00m\n\u001b[0;32m     39\u001b[0m         blockID \u001b[38;5;241m=\u001b[39m icu\u001b[38;5;241m.\u001b[39mChar\u001b[38;5;241m.\u001b[39mublock_getCode(hanChar)\n",
      "\u001b[1;31mKeyError\u001b[0m: 'aa4'"
     ]
    }
   ],
   "source": [
    "import io\n",
    "import re\n",
    "import icu\n",
    "import json\n",
    "import HanComparator\n",
    "import pywikibot\n",
    "\n",
    "with io.open(\"data/jyutping-index.json\", \"r\", encoding = \"utf-8\") as ji:\n",
    "    jyutpingIndex = json.loads(ji.read())\n",
    "with io.open(\"data/jyutping-rev.json\", \"r\", encoding = \"utf-8\") as j:\n",
    "    jyutpingRev = json.loads(j.read())\n",
    "\n",
    "# preloaded data\n",
    "normalPUAs = [\n",
    "    0xFA0E, 0xFA0F, 0xFA11, 0xFA13, 0xFA14, 0xFA1F,\n",
    "    0xFA21, 0xFA23, 0xFA24, 0xFA27, 0xFA28, 0xFA29\n",
    "]\n",
    "\n",
    "comp = HanComparator.HanComparator()\n",
    "site = pywikibot.Site(\"th\", \"wiktionary\", \"OctraBot\")\n",
    "\n",
    "for c in range(97, 123): # a to z\n",
    "    leading = chr(c)\n",
    "    indices = list(filter(lambda x: x.startswith(leading), jyutpingIndex[\"detoned\"]))\n",
    "    if len(indices) == 0:\n",
    "        continue\n",
    "\n",
    "    buffer = \"{{สารบัญดัชนีอักษรจีน}}\\nข้อมูลอักษรจีนจากยูนิฮัน โดยยูนิโคดรุ่น 14.0.0 รายการหลักเรียงตามยฺหวืดเพ็งที่เขียนด้วยอักษรละติน \\\n",
    "    รายการย่อยเรียงตามบล็อก CJK และ CJK ส่วนขยาย A-G อุปกรณ์ของท่านอาจแสดงผลได้ไม่ครบทุกตัวอักษร \\\n",
    "    รายการเหล่านี้สร้างขึ้นด้วยบอต ไม่ควรแก้ไขด้วยมือ {{สารบัญขวา}}\\n\\n\"\n",
    "\n",
    "    for index in indices:\n",
    "        buffer += \"== \" + index + \" ==\\n\\n{| lang=\\\"yue\\\"\\n\"\n",
    "        subindices = list(filter(lambda x: re.match(index + \"[1-6]\", x), jyutpingIndex[\"toned\"]))\n",
    "        for subindex in subindices:\n",
    "            hanList = jyutpingRev[subindex]\n",
    "            for hanChar in hanList[:]:\n",
    "                # compatibility chars result in duplicated chars on web, so remove them\n",
    "                blockID = icu.Char.ublock_getCode(hanChar)\n",
    "                if blockID == getattr(icu.UBlockCode, \"CJK_COMPATIBILITY_IDEOGRAPHS\") \\\n",
    "                    or blockID == getattr(icu.UBlockCode, \"CJK_COMPATIBILITY_IDEOGRAPHS_SUPPLEMENT\"):\n",
    "                    if ord(hanChar) not in normalPUAs:\n",
    "                        hanList.remove(hanChar)\n",
    "                        \n",
    "            buffer += \"|-\\n! style=\\\"vertical-align:top;font-size:large\\\" | [[{}|{}<sup>{}</sup>]] :\\n\".format(subindex, index, subindex[-1:])\n",
    "            buffer += \"| {{charlist|sep=、|sc=Hani|\"\n",
    "            hanList.sort(key = comp.getCollationKey)\n",
    "            buffer += \"\".join(hanList)\n",
    "            buffer += \"}}\\n\"\n",
    "        buffer += \"|}\\n\\n\"\n",
    "            \n",
    "    pagename = \"ดัชนี:ยฺหวืดเพ็งภาษากวางตุ้ง/\" + leading\n",
    "    page = pywikibot.Page(site, pagename)\n",
    "    page.text = buffer\n",
    "    page.save(\"updated\")\n"
   ]
  },
  {
   "cell_type": "code",
   "execution_count": null,
   "id": "32b142a2-551a-4ddf-b734-7e335ea4ae3f",
   "metadata": {},
   "outputs": [],
   "source": []
  }
 ],
 "metadata": {
  "kernelspec": {
   "display_name": "Python 3 (ipykernel)",
   "language": "python",
   "name": "python3"
  },
  "language_info": {
   "codemirror_mode": {
    "name": "ipython",
    "version": 3
   },
   "file_extension": ".py",
   "mimetype": "text/x-python",
   "name": "python",
   "nbconvert_exporter": "python",
   "pygments_lexer": "ipython3",
   "version": "3.10.7"
  }
 },
 "nbformat": 4,
 "nbformat_minor": 5
}
