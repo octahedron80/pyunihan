{
 "cells": [
  {
   "cell_type": "code",
   "execution_count": 3,
   "id": "5b4f737e-a26a-4c52-baf7-4bff9ac58c48",
   "metadata": {},
   "outputs": [],
   "source": [
    "import io\n",
    "import re\n",
    "import icu\n",
    "import json\n",
    "\n",
    "with io.open(\"data/Unihan_Readings.json\", \"r\", encoding = \"utf-8\") as r:\n",
    "    readings = json.loads(r.read())\n",
    "with io.open(\"data/Unihan_DictionaryLikeData.json\", \"r\", encoding = \"utf-8\") as dl:\n",
    "    dldata = json.loads(dl.read())\n",
    "\n",
    "# for kCheungBauer that has [ng] or 1/2 etc\n",
    "def extract(pron):\n",
    "    output = []\n",
    "    for p in pron:\n",
    "        if p.startswith(\"[ng]\"):\n",
    "            output += extract([p[4:], \"ng\" + p[4:]])\n",
    "        elif re.match(\"[a-z]+[1-6](/[1-6])+\", p):\n",
    "            index = re.findall(\"[a-z]+\", p)[0]\n",
    "            nums = re.findall(\"[1-6]\", p)\n",
    "            output += [index + n for n in nums]\n",
    "        else:\n",
    "            output.append(p)\n",
    "    return output\n",
    "    \n",
    "def main():\n",
    "    jyutpingSet = set()\n",
    "    jyutpingDetonedSet = set()\n",
    "    for han in readings:\n",
    "        if \"kCantonese\" in readings[han]:\n",
    "            for pron in readings[han][\"kCantonese\"]:\n",
    "                detoned = pron[:-1] # remove number 1-6\n",
    "                jyutpingSet.add(pron)\n",
    "                jyutpingDetonedSet.add(detoned)\n",
    "    for han in dldata:\n",
    "        if \"kCheungBauer\" in dldata[han]:\n",
    "            for data in dldata[han][\"kCheungBauer\"]:\n",
    "                subdata = data.split(\";\")\n",
    "                prons = subdata[2].split(\",\")\n",
    "                pronss = extract(prons)\n",
    "                for pron in pronss:\n",
    "                    detoned = pron[:-1] # remove number 1-6\n",
    "                    jyutpingSet.add(pron)\n",
    "                    jyutpingDetonedSet.add(detoned)\n",
    "    \n",
    "    # simple sort is enough\n",
    "    jyutpings = { \"toned\" : sorted(jyutpingSet), \"detoned\" : sorted(jyutpingDetonedSet) }\n",
    "\n",
    "    with io.open(\"data/jyutping-index.json\", \"w\", encoding = \"utf-8\") as j:\n",
    "        json.dump(jyutpings, j, ensure_ascii = False, separators = (\",\", \":\"))\n",
    "\n",
    "if __name__ == \"__main__\":\n",
    "    main()\n"
   ]
  },
  {
   "cell_type": "code",
   "execution_count": null,
   "id": "28fa03d3-ae35-4d9c-864c-f90628890ba0",
   "metadata": {},
   "outputs": [],
   "source": []
  }
 ],
 "metadata": {
  "kernelspec": {
   "display_name": "Python 3 (ipykernel)",
   "language": "python",
   "name": "python3"
  },
  "language_info": {
   "codemirror_mode": {
    "name": "ipython",
    "version": 3
   },
   "file_extension": ".py",
   "mimetype": "text/x-python",
   "name": "python",
   "nbconvert_exporter": "python",
   "pygments_lexer": "ipython3",
   "version": "3.10.7"
  }
 },
 "nbformat": 4,
 "nbformat_minor": 5
}
