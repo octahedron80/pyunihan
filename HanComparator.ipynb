{
 "cells": [
  {
   "cell_type": "code",
   "execution_count": 21,
   "id": "f9945c03-56d4-447f-bc1e-bfd198f4d05d",
   "metadata": {},
   "outputs": [],
   "source": [
    "import io\n",
    "import icu\n",
    "import json\n",
    "\n",
    "class HanComparator:\n",
    "    dbObj = None\n",
    "\n",
    "    def __init__(self):\n",
    "        with io.open(\"data/Unihan_IRGSources.json\", \"r\", encoding = \"utf-8\") as u:\n",
    "            self.dbObj = json.loads(u.read())\n",
    "            u.close()\n",
    "    \n",
    "    # 2.1.2 Sorting Algorithm Used by the Radical-Stroke Charts.\n",
    "    # https://www.unicode.org/reports/tr38/#SortingAlgorithm\n",
    "    def getCollationKey(self, hanChar):\n",
    "        key = ord(hanChar) # start with bit 0-19\n",
    "        blockID = icu.Char.ublock_getCode(hanChar) # bit 20-27\n",
    "        if blockID == getattr(icu.UBlockCode, \"CJK_UNIFIED_IDEOGRAPHS_EXTENSION_A\"):\n",
    "            key += 1 << 20\n",
    "        elif blockID == getattr(icu.UBlockCode, \"CJK_UNIFIED_IDEOGRAPHS_EXTENSION_B\"):\n",
    "            key += 2 << 20\n",
    "        elif blockID == getattr(icu.UBlockCode, \"CJK_UNIFIED_IDEOGRAPHS_EXTENSION_C\"):\n",
    "            key += 3 << 20\n",
    "        elif blockID == getattr(icu.UBlockCode, \"CJK_UNIFIED_IDEOGRAPHS_EXTENSION_D\"):\n",
    "            key += 4 << 20\n",
    "        elif blockID == getattr(icu.UBlockCode, \"CJK_UNIFIED_IDEOGRAPHS_EXTENSION_E\"):\n",
    "            key += 5 << 20\n",
    "        elif blockID == getattr(icu.UBlockCode, \"CJK_UNIFIED_IDEOGRAPHS_EXTENSION_F\"):\n",
    "            key += 6 << 20\n",
    "        elif blockID == getattr(icu.UBlockCode, \"CJK_UNIFIED_IDEOGRAPHS_EXTENSION_G\"):\n",
    "            key += 7 << 20\n",
    "        elif blockID == getattr(icu.UBlockCode, \"CJK_COMPATIBILITY_IDEOGRAPHS\"):\n",
    "            key += 254 << 20\n",
    "        elif blockID == getattr(icu.UBlockCode, \"CJK_COMPATIBILITY_IDEOGRAPHS_SUPPLEMENT\"):\n",
    "            key += 255 << 20\n",
    "        # for main block or else, nothing to add\n",
    "\n",
    "        rscode = self.dbObj[hanChar][\"kRSUnicode\"][0] # only first value because no way to choose\n",
    "        tokens = rscode.split(\".\")\n",
    "        if tokens[0].endswith(\"'\"):\n",
    "            tokens[0] = tokens[0][:-1]\n",
    "            key += 1 << 28 # bit 28-31\n",
    "        # bit 32-35, just do nothing right now\n",
    "        if (stroke := int(tokens[1])) > 0: # it can be negative\n",
    "            key += stroke << 36 # bit 36-43\n",
    "        key += int(tokens[0]) << 44 # bit 44-51\n",
    "        return key\n"
   ]
  },
  {
   "cell_type": "code",
   "execution_count": null,
   "id": "59405adb-6416-47f7-a2ed-96abcf047e98",
   "metadata": {},
   "outputs": [],
   "source": []
  }
 ],
 "metadata": {
  "kernelspec": {
   "display_name": "Python 3 (ipykernel)",
   "language": "python",
   "name": "python3"
  },
  "language_info": {
   "codemirror_mode": {
    "name": "ipython",
    "version": 3
   },
   "file_extension": ".py",
   "mimetype": "text/x-python",
   "name": "python",
   "nbconvert_exporter": "python",
   "pygments_lexer": "ipython3",
   "version": "3.10.5"
  }
 },
 "nbformat": 4,
 "nbformat_minor": 5
}
