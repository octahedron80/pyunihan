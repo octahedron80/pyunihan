{
 "cells": [
  {
   "cell_type": "code",
   "execution_count": 1,
   "id": "5e729780-7507-4ccd-95db-5a314124fb5c",
   "metadata": {},
   "outputs": [],
   "source": [
    "import io\n",
    "import icu\n",
    "import json\n",
    "\n",
    "def main():\n",
    "    with io.open(\"data/Unihan_Readings.json\", \"r\", encoding = \"utf-8\") as u:\n",
    "        dbObj = json.loads(u.read())\n",
    "\n",
    "    newObj = {}\n",
    "    for hanChar in dbObj:\n",
    "        if \"kCantonese\" in dbObj[hanChar]:\n",
    "            values = dbObj[hanChar][\"kCantonese\"]\n",
    "            for value in values:\n",
    "                if value not in newObj:\n",
    "                    newObj[value] = []\n",
    "                newObj[value].append(hanChar)\n",
    "\n",
    "    with io.open(\"data/jyutping-rev.json\", \"w\", encoding = \"utf-8\") as j:\n",
    "        json.dump(newObj, j, ensure_ascii = False, separators = (\",\", \":\"))\n",
    "\n",
    "if __name__ == \"__main__\":\n",
    "    main()\n"
   ]
  },
  {
   "cell_type": "code",
   "execution_count": null,
   "id": "6bd7b84b-d056-40bd-aa25-0b3355a6223d",
   "metadata": {},
   "outputs": [],
   "source": []
  }
 ],
 "metadata": {
  "kernelspec": {
   "display_name": "Python 3 (ipykernel)",
   "language": "python",
   "name": "python3"
  },
  "language_info": {
   "codemirror_mode": {
    "name": "ipython",
    "version": 3
   },
   "file_extension": ".py",
   "mimetype": "text/x-python",
   "name": "python",
   "nbconvert_exporter": "python",
   "pygments_lexer": "ipython3",
   "version": "3.10.7"
  }
 },
 "nbformat": 4,
 "nbformat_minor": 5
}
